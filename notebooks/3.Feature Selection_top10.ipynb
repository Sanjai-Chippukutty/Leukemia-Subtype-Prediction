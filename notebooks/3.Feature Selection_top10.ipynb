{
 "cells": [
  {
   "cell_type": "code",
   "execution_count": 12,
   "id": "65f82e49-ffdf-4c7b-9f2f-bc7fcc076d7d",
   "metadata": {},
   "outputs": [
    {
     "name": "stdout",
     "output_type": "stream",
     "text": [
      " Features after Variance Threshold: 3051\n",
      " Top 10 selected features: ['D63391_at', 'J04027_at', 'L01087_at', 'S50223_at', 'U46499_at', 'X68688_rna1_s_at', 'M31551_s_at', 'M20203_s_at', 'M26692_s_at', 'X56687_s_at']\n",
      " Reduced dataset saved to: C:\\Users\\sanja\\4.Leukemia Subtype Prediction Using Gene Expression\\4.Leukemia_Subtype_Prediction\\data\\leukemia_golub99_top10_features.csv\n"
     ]
    }
   ],
   "source": [
    "import pandas as pd\n",
    "import numpy as np\n",
    "from sklearn.feature_selection import VarianceThreshold, SelectKBest, f_classif\n",
    "from sklearn.impute import SimpleImputer\n",
    "from sklearn.preprocessing import StandardScaler\n",
    "\n",
    "#  Load preprocessed dataset\n",
    "data_path = r\"C:\\Users\\sanja\\4.Leukemia Subtype Prediction Using Gene Expression\\4.Leukemia_Subtype_Prediction\\data\\leukemia_golub99_preprocessed.csv\"\n",
    "df = pd.read_csv(data_path)\n",
    "\n",
    "#  Target and Features\n",
    "target = \"Subtype\"\n",
    "X = df.drop(columns=[target])\n",
    "y = df[target]\n",
    "\n",
    "# 1️ Handle Missing Values\n",
    "imputer = SimpleImputer(strategy=\"mean\")\n",
    "X_imputed = imputer.fit_transform(X)\n",
    "\n",
    "# 2️ Scale features\n",
    "scaler = StandardScaler()\n",
    "X_scaled = scaler.fit_transform(X_imputed)\n",
    "\n",
    "# 3️ Remove low variance features\n",
    "var_thresh = VarianceThreshold(threshold=0.01)\n",
    "X_var = var_thresh.fit_transform(X_scaled)\n",
    "selected_features_var = X.columns[var_thresh.get_support()]\n",
    "\n",
    "print(f\" Features after Variance Threshold: {len(selected_features_var)}\")\n",
    "\n",
    "# 4️ Select top 10 features\n",
    "K = 10\n",
    "selector = SelectKBest(score_func=f_classif, k=K)\n",
    "X_kbest = selector.fit_transform(X_var, y)\n",
    "\n",
    "selected_features_kbest = selected_features_var[selector.get_support()]\n",
    "\n",
    "print(f\" Top {K} selected features: {list(selected_features_kbest)}\")\n",
    "\n",
    "# 5️ Create reduced DataFrame\n",
    "X_selected_df = pd.DataFrame(X_kbest, columns=selected_features_kbest)\n",
    "final_df = pd.concat([X_selected_df, y.reset_index(drop=True)], axis=1)\n",
    "\n",
    "# 6️ Save reduced dataset\n",
    "output_path = r\"C:\\Users\\sanja\\4.Leukemia Subtype Prediction Using Gene Expression\\4.Leukemia_Subtype_Prediction\\data\\leukemia_golub99_top10_features.csv\"\n",
    "final_df.to_csv(output_path, index=False)\n",
    "\n",
    "print(f\" Reduced dataset saved to: {output_path}\")\n"
   ]
  },
  {
   "cell_type": "code",
   "execution_count": null,
   "id": "d1faff34-6a80-4c7b-85f6-c5e01b389adf",
   "metadata": {},
   "outputs": [],
   "source": []
  }
 ],
 "metadata": {
  "kernelspec": {
   "display_name": "Python 3 (ipykernel)",
   "language": "python",
   "name": "python3"
  },
  "language_info": {
   "codemirror_mode": {
    "name": "ipython",
    "version": 3
   },
   "file_extension": ".py",
   "mimetype": "text/x-python",
   "name": "python",
   "nbconvert_exporter": "python",
   "pygments_lexer": "ipython3",
   "version": "3.11.0"
  }
 },
 "nbformat": 4,
 "nbformat_minor": 5
}
