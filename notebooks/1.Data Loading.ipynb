{
 "cells": [
  {
   "cell_type": "code",
   "execution_count": 1,
   "id": "963b06ae-3564-4548-8517-0864f3ffa709",
   "metadata": {},
   "outputs": [
    {
     "name": "stdout",
     "output_type": "stream",
     "text": [
      "Collecting pyreadr\n",
      "  Downloading pyreadr-0.5.3-cp311-cp311-win_amd64.whl (1.4 MB)\n",
      "     ---------------------------------------- 1.4/1.4 MB 1.7 MB/s eta 0:00:00\n",
      "Requirement already satisfied: pandas>=1.2.0 in c:\\users\\sanja\\appdata\\local\\programs\\python\\python311\\lib\\site-packages (from pyreadr) (2.3.1)\n",
      "Requirement already satisfied: numpy>=1.23.2 in c:\\users\\sanja\\appdata\\local\\programs\\python\\python311\\lib\\site-packages (from pandas>=1.2.0->pyreadr) (2.2.0)\n",
      "Requirement already satisfied: python-dateutil>=2.8.2 in c:\\users\\sanja\\appdata\\local\\programs\\python\\python311\\lib\\site-packages (from pandas>=1.2.0->pyreadr) (2.9.0.post0)\n",
      "Requirement already satisfied: pytz>=2020.1 in c:\\users\\sanja\\appdata\\local\\programs\\python\\python311\\lib\\site-packages (from pandas>=1.2.0->pyreadr) (2025.2)\n",
      "Requirement already satisfied: tzdata>=2022.7 in c:\\users\\sanja\\appdata\\local\\programs\\python\\python311\\lib\\site-packages (from pandas>=1.2.0->pyreadr) (2025.2)\n",
      "Requirement already satisfied: six>=1.5 in c:\\users\\sanja\\appdata\\local\\programs\\python\\python311\\lib\\site-packages (from python-dateutil>=2.8.2->pandas>=1.2.0->pyreadr) (1.17.0)\n",
      "Installing collected packages: pyreadr\n",
      "Successfully installed pyreadr-0.5.3\n",
      "Note: you may need to restart the kernel to use updated packages.\n"
     ]
    },
    {
     "name": "stderr",
     "output_type": "stream",
     "text": [
      "\n",
      "[notice] A new release of pip available: 22.3 -> 25.2\n",
      "[notice] To update, run: python.exe -m pip install --upgrade pip\n"
     ]
    }
   ],
   "source": [
    "pip install pyreadr\n"
   ]
  },
  {
   "cell_type": "code",
   "execution_count": 2,
   "id": "1935b5ba-4458-40d4-9573-e0af1e8d52ee",
   "metadata": {},
   "outputs": [
    {
     "name": "stdout",
     "output_type": "stream",
     "text": [
      "Keys in RDA file: ['golub_train_3051', 'golub_train_response', 'golub_test_3051', 'golub_test_response']\n",
      "Loaded dataframe 'golub_train_3051' with shape (38, 3051)\n",
      " CSV file saved at: C:\\Users\\sanja\\4.Leukemia Subtype Prediction Using Gene Expression\\4.Leukemia_Subtype_Prediction\\data\\leukemia_golub99.csv\n"
     ]
    }
   ],
   "source": [
    "import pyreadr\n",
    "import pandas as pd\n",
    "import os\n",
    "\n",
    "# Path to your .rda file\n",
    "rda_path = r\"C:\\Users\\sanja\\4.Leukemia Subtype Prediction Using Gene Expression\\4.Leukemia_Subtype_Prediction\\data\\raw\\leukemia_data_Golub99_3051.rda\"\n",
    "\n",
    "# Load .rda file\n",
    "result = pyreadr.read_r(rda_path)\n",
    "\n",
    "# The result is a dictionary with variable names as keys\n",
    "print(\"Keys in RDA file:\", list(result.keys()))\n",
    "\n",
    "# Extract the first dataframe\n",
    "df = None\n",
    "for key in result.keys():\n",
    "    df = result[key]  # Assign dataframe\n",
    "    print(f\"Loaded dataframe '{key}' with shape {df.shape}\")\n",
    "    break\n",
    "\n",
    "# Save as CSV\n",
    "csv_path = r\"C:\\Users\\sanja\\4.Leukemia Subtype Prediction Using Gene Expression\\4.Leukemia_Subtype_Prediction\\data\\leukemia_golub99.csv\"\n",
    "df.to_csv(csv_path, index=False)\n",
    "\n",
    "print(f\" CSV file saved at: {csv_path}\")\n"
   ]
  },
  {
   "cell_type": "code",
   "execution_count": 4,
   "id": "d4d8a159-c6f2-4278-9657-e90f4afc5dc4",
   "metadata": {},
   "outputs": [
    {
     "name": "stdout",
     "output_type": "stream",
     "text": [
      "Objects in RDA file: ['golub_train_3051', 'golub_train_response', 'golub_test_3051', 'golub_test_response']\n",
      " Merged CSV saved: C:\\Users\\sanja\\4.Leukemia Subtype Prediction Using Gene Expression\\4.Leukemia_Subtype_Prediction\\data\\leukemia_golub99.csv\n",
      "Shape of merged dataset: (76, 3052)\n",
      "  Subtype  AFFX-HUMISGF3A/M97935_MA_at  AFFX-HUMISGF3A/M97935_MB_at  \\\n",
      "0     ALL                          NaN                          NaN   \n",
      "1     ALL                          NaN                          NaN   \n",
      "2     ALL                          NaN                          NaN   \n",
      "3     ALL                          NaN                          NaN   \n",
      "4     ALL                          NaN                          NaN   \n",
      "\n",
      "   AFFX-HUMISGF3A/M97935_3_at  AFFX-HUMRGE/M10098_5_at  \\\n",
      "0                         NaN                      NaN   \n",
      "1                         NaN                      NaN   \n",
      "2                         NaN                      NaN   \n",
      "3                         NaN                      NaN   \n",
      "4                         NaN                      NaN   \n",
      "\n",
      "   AFFX-HUMRGE/M10098_M_at  AFFX-HUMRGE/M10098_3_at  \\\n",
      "0                      NaN                      NaN   \n",
      "1                      NaN                      NaN   \n",
      "2                      NaN                      NaN   \n",
      "3                      NaN                      NaN   \n",
      "4                      NaN                      NaN   \n",
      "\n",
      "   AFFX-HUMGAPDH/M33197_5_at  AFFX-HUMGAPDH/M33197_M_at  \\\n",
      "0                        NaN                        NaN   \n",
      "1                        NaN                        NaN   \n",
      "2                        NaN                        NaN   \n",
      "3                        NaN                        NaN   \n",
      "4                        NaN                        NaN   \n",
      "\n",
      "   AFFX-HSAC07/X00351_5_at  ...  U88902_cds1_f_at  D64015_at  L78833_cds4_at  \\\n",
      "0                      NaN  ...               NaN        NaN             NaN   \n",
      "1                      NaN  ...               NaN        NaN             NaN   \n",
      "2                      NaN  ...               NaN        NaN             NaN   \n",
      "3                      NaN  ...               NaN        NaN             NaN   \n",
      "4                      NaN  ...               NaN        NaN             NaN   \n",
      "\n",
      "   M93143_at  U29175_at  U58516_at  X06956_at  X83863_at  Z17240_at  \\\n",
      "0        NaN        NaN        NaN        NaN        NaN        NaN   \n",
      "1        NaN        NaN        NaN        NaN        NaN        NaN   \n",
      "2        NaN        NaN        NaN        NaN        NaN        NaN   \n",
      "3        NaN        NaN        NaN        NaN        NaN        NaN   \n",
      "4        NaN        NaN        NaN        NaN        NaN        NaN   \n",
      "\n",
      "   M71243_f_at  \n",
      "0          NaN  \n",
      "1          NaN  \n",
      "2          NaN  \n",
      "3          NaN  \n",
      "4          NaN  \n",
      "\n",
      "[5 rows x 3052 columns]\n",
      "Label mapping: {'ALL': np.int64(0), 'AML': np.int64(1), nan: np.int64(2)}\n",
      " Preprocessed CSV saved: C:\\Users\\sanja\\4.Leukemia Subtype Prediction Using Gene Expression\\4.Leukemia_Subtype_Prediction\\data\\leukemia_golub99_preprocessed.csv\n"
     ]
    }
   ],
   "source": [
    "import pyreadr\n",
    "import pandas as pd\n",
    "import numpy as np\n",
    "from sklearn.preprocessing import LabelEncoder, StandardScaler\n",
    "\n",
    "#  Step 1: Load the .rda file\n",
    "rda_path = r\"C:\\Users\\sanja\\4.Leukemia Subtype Prediction Using Gene Expression\\4.Leukemia_Subtype_Prediction\\data\\raw\\leukemia_data_Golub99_3051.rda\"\n",
    "result = pyreadr.read_r(rda_path)\n",
    "\n",
    "#  Step 2: Inspect contents\n",
    "print(\"Objects in RDA file:\", list(result.keys()))\n",
    "\n",
    "# Manually assign objects based on inspection\n",
    "# Change 'x' and 'y' to actual keys if different in your file\n",
    "expression_df = result[list(result.keys())[0]]  # usually the expression matrix\n",
    "labels_df = result[list(result.keys())[1]]      # usually the labels\n",
    "\n",
    "#  Step 3: Clean and rename\n",
    "labels_df.columns = [\"Subtype\"]  # rename to a clear target name\n",
    "\n",
    "#  Step 4: Merge labels + expression data\n",
    "merged_df = pd.concat([labels_df, expression_df], axis=1)\n",
    "\n",
    "#  Step 5: Save merged dataset\n",
    "csv_path = r\"C:\\Users\\sanja\\4.Leukemia Subtype Prediction Using Gene Expression\\4.Leukemia_Subtype_Prediction\\data\\leukemia_golub99.csv\"\n",
    "merged_df.to_csv(csv_path, index=False)\n",
    "print(f\" Merged CSV saved: {csv_path}\")\n",
    "\n",
    "#  Step 6: Preprocessing\n",
    "df = pd.read_csv(csv_path)\n",
    "print(\"Shape of merged dataset:\", df.shape)\n",
    "print(df.head())\n",
    "\n",
    "# Encode target labels\n",
    "le = LabelEncoder()\n",
    "df[\"Subtype\"] = le.fit_transform(df[\"Subtype\"])\n",
    "print(\"Label mapping:\", dict(zip(le.classes_, le.transform(le.classes_))))\n",
    "\n",
    "# Separate features and target\n",
    "X = df.drop(columns=[\"Subtype\"])\n",
    "y = df[\"Subtype\"]\n",
    "\n",
    "# Scale features\n",
    "scaler = StandardScaler()\n",
    "X_scaled = scaler.fit_transform(X)\n",
    "\n",
    "# Convert scaled features back to DataFrame\n",
    "X_scaled_df = pd.DataFrame(X_scaled, columns=X.columns)\n",
    "\n",
    "# Final processed DataFrame\n",
    "processed_df = pd.concat([y, X_scaled_df], axis=1)\n",
    "\n",
    "# Save preprocessed dataset\n",
    "processed_path = r\"C:\\Users\\sanja\\4.Leukemia Subtype Prediction Using Gene Expression\\4.Leukemia_Subtype_Prediction\\data\\leukemia_golub99_preprocessed.csv\"\n",
    "processed_df.to_csv(processed_path, index=False)\n",
    "print(f\" Preprocessed CSV saved: {processed_path}\")\n"
   ]
  },
  {
   "cell_type": "code",
   "execution_count": null,
   "id": "b582d363-12c6-427b-a4dd-33260a079d76",
   "metadata": {},
   "outputs": [],
   "source": []
  }
 ],
 "metadata": {
  "kernelspec": {
   "display_name": "Python 3 (ipykernel)",
   "language": "python",
   "name": "python3"
  },
  "language_info": {
   "codemirror_mode": {
    "name": "ipython",
    "version": 3
   },
   "file_extension": ".py",
   "mimetype": "text/x-python",
   "name": "python",
   "nbconvert_exporter": "python",
   "pygments_lexer": "ipython3",
   "version": "3.11.0"
  }
 },
 "nbformat": 4,
 "nbformat_minor": 5
}
